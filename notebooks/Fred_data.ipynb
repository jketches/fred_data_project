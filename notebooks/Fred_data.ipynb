{
 "cells": [
  {
   "cell_type": "markdown",
   "id": "a470a785-8ff6-4fab-88f8-dc0fdad4d7eb",
   "metadata": {},
   "source": [
    "# FRED Data Analysis Project\n",
    "This notebook handles data retrieval, processing, and analysis for the FRED project."
   ]
  },
  {
   "cell_type": "markdown",
   "id": "628cca6b-eb9d-421f-912f-4bce9d3451b0",
   "metadata": {},
   "source": [
    "# Imports"
   ]
  },
  {
   "cell_type": "code",
   "execution_count": 12,
   "id": "8e944e61-b5b8-4698-9a71-6e284bb9ca15",
   "metadata": {},
   "outputs": [],
   "source": [
    "import os\n",
    "import sys\n",
    "import requests\n",
    "from datetime import datetime\n",
    "import logging\n",
    "import pandas as pd\n",
    "import numpy as np\n",
    "import matplotlib.pyplot as plt\n",
    "import seaborn as sns\n",
    "import pandas_datareader as web\n",
    "from fpdf import FPDF"
   ]
  },
  {
   "cell_type": "markdown",
   "id": "07b9df5b-6272-498f-b52a-2d6285746935",
   "metadata": {},
   "source": [
    "# Project setup"
   ]
  },
  {
   "cell_type": "code",
   "execution_count": 13,
   "id": "0cf589da-e494-4d33-8987-5a15f0c15e59",
   "metadata": {},
   "outputs": [
    {
     "name": "stdout",
     "output_type": "stream",
     "text": [
      "['/data/data/com.termux/files/home/projects/fred_data_project', '/data/data/com.termux/files/home/projects/fred_data_project', '/data/data/com.termux/files/home/projects/fred_data_project', '/data/data/com.termux/files/usr/lib/python312.zip', '/data/data/com.termux/files/usr/lib/python3.12', '/data/data/com.termux/files/usr/lib/python3.12/lib-dynload', '', '/data/data/com.termux/files/usr/lib/python3.12/site-packages', '/data/data/com.termux/files/usr/lib/python3.12/site-packages/setuptools/_vendor', '/data/data/com.termux/files/home/projects/fred_data_project/scripts']\n"
     ]
    }
   ],
   "source": [
    "# Determine the main project folder (one level above the notebooks/ folder)\n",
    "notebook_dir = os.path.dirname(os.path.abspath(\"__file__\"))\n",
    "project_dir = os.path.abspath(os.path.join(notebook_dir, \"..\"))\n",
    "\n",
    "# Define folders relative to the main project directory\n",
    "data_dir = os.path.join(project_dir, \"data\")\n",
    "results_dir = os.path.join(project_dir, \"results\")\n",
    "scripts_dir = os.path.join(project_dir,\"scripts\")\n",
    "\n",
    "# Add the project directory to the Python path\n",
    "sys.path.insert(0, project_dir)\n",
    "\n",
    "# Add scripts folder to the Python path\n",
    "if scripts_dir not in sys.path:\n",
    "    sys.path.append(scripts_dir)\n",
    "\n",
    "# print(\"Folders added to sys.path:\")\n",
    "# print(\"\\n\".join(sys.path))\n",
    "print(sys.path)"
   ]
  },
  {
   "cell_type": "code",
   "execution_count": 14,
   "id": "dd81edea-6858-438f-92e2-af8b6705863f",
   "metadata": {},
   "outputs": [
    {
     "name": "stdout",
     "output_type": "stream",
     "text": [
      "Project directory: /data/data/com.termux/files/home/projects/fred_data_project\n",
      "Data directory: /data/data/com.termux/files/home/projects/fred_data_project/data\n",
      "Results directory: /data/data/com.termux/files/home/projects/fred_data_project/results\n",
      "Scripts directory: /data/data/com.termux/files/home/projects/fred_data_project/scripts\n"
     ]
    }
   ],
   "source": [
    "# Create folders if they don't exist\n",
    "for folder in [data_dir, results_dir, scripts_dir]:\n",
    "    os.makedirs(folder, exist_ok=True)\n",
    "\n",
    "print(f\"Project directory: {project_dir}\")\n",
    "print(f\"Data directory: {data_dir}\")\n",
    "print(f\"Results directory: {results_dir}\")\n",
    "print(f\"Scripts directory: {scripts_dir}\")\n"
   ]
  },
  {
   "cell_type": "markdown",
   "id": "06699748-6e97-4582-8d0e-cd1465d07042",
   "metadata": {},
   "source": [
    "# Data loading"
   ]
  },
  {
   "cell_type": "code",
   "execution_count": 18,
   "id": "4caaf820-c515-4aee-8fd4-44883220254f",
   "metadata": {},
   "outputs": [
    {
     "name": "stdout",
     "output_type": "stream",
     "text": [
      "['FRED_API_KEY', 'FRED_SERIES', 'Fred', '__builtins__', '__cached__', '__doc__', '__file__', '__loader__', '__name__', '__package__', '__spec__', 'fetch_fred_data']\n"
     ]
    }
   ],
   "source": [
    "# Set up fred environment\n",
    "import fred_config\n",
    "\n",
    "#print(dir(fred_config))\n",
    "\n",
    "#print(\"Fred class loaded:\", Fred)\n"
   ]
  },
  {
   "cell_type": "code",
   "execution_count": 19,
   "id": "63d3b661-2893-41dd-b690-ed6df68c15b7",
   "metadata": {},
   "outputs": [
    {
     "ename": "NameError",
     "evalue": "name 'pd' is not defined",
     "output_type": "error",
     "traceback": [
      "\u001b[0;31m---------------------------------------------------------------------------\u001b[0m",
      "\u001b[0;31mNameError\u001b[0m                                 Traceback (most recent call last)",
      "Cell \u001b[0;32mIn[19], line 5\u001b[0m\n\u001b[1;32m      1\u001b[0m \u001b[38;5;66;03m# Fetch the FRED data for US yields\u001b[39;00m\n\u001b[1;32m      3\u001b[0m fred_series \u001b[38;5;241m=\u001b[39m [\u001b[38;5;124m\"\u001b[39m\u001b[38;5;124mDGS2\u001b[39m\u001b[38;5;124m\"\u001b[39m, \u001b[38;5;124m\"\u001b[39m\u001b[38;5;124mDGS5\u001b[39m\u001b[38;5;124m\"\u001b[39m, \u001b[38;5;124m\"\u001b[39m\u001b[38;5;124mDGS10\u001b[39m\u001b[38;5;124m\"\u001b[39m]\n\u001b[0;32m----> 5\u001b[0m us_yields \u001b[38;5;241m=\u001b[39m \u001b[43mfred_config\u001b[49m\u001b[38;5;241;43m.\u001b[39;49m\u001b[43mfetch_fred_data\u001b[49m\u001b[43m(\u001b[49m\u001b[43mfred_series\u001b[49m\u001b[43m,\u001b[49m\u001b[43m \u001b[49m\u001b[43mstart_date\u001b[49m\u001b[38;5;241;43m=\u001b[39;49m\u001b[38;5;124;43m\"\u001b[39;49m\u001b[38;5;124;43m\"\u001b[39;49m\u001b[43m,\u001b[49m\u001b[43m \u001b[49m\u001b[43mfrequency\u001b[49m\u001b[38;5;241;43m=\u001b[39;49m\u001b[38;5;124;43m\"\u001b[39;49m\u001b[38;5;124;43m\"\u001b[39;49m\u001b[43m)\u001b[49m\n\u001b[1;32m      7\u001b[0m us_yields\u001b[38;5;241m.\u001b[39mrename(columns\u001b[38;5;241m=\u001b[39mFRED_SERIES_NAMES, inplace\u001b[38;5;241m=\u001b[39m\u001b[38;5;28;01mTrue\u001b[39;00m)\n",
      "File \u001b[0;32m~/projects/fred_data_project/scripts/fred_config.py:35\u001b[0m, in \u001b[0;36mfetch_fred_data\u001b[0;34m(series_ids, start_date, frequency)\u001b[0m\n\u001b[1;32m     23\u001b[0m \u001b[38;5;250m\u001b[39m\u001b[38;5;124;03m\"\"\"\u001b[39;00m\n\u001b[1;32m     24\u001b[0m \u001b[38;5;124;03mFetches data for specified FRED series IDs using the stored API key.\u001b[39;00m\n\u001b[1;32m     25\u001b[0m \u001b[38;5;124;03m\u001b[39;00m\n\u001b[0;32m   (...)\u001b[0m\n\u001b[1;32m     32\u001b[0m \u001b[38;5;124;03m    pd.DataFrame: A dataframe with each series as a column.\u001b[39;00m\n\u001b[1;32m     33\u001b[0m \u001b[38;5;124;03m\"\"\"\u001b[39;00m\n\u001b[1;32m     34\u001b[0m fred \u001b[38;5;241m=\u001b[39m Fred(api_key\u001b[38;5;241m=\u001b[39mFRED_API_KEY)\n\u001b[0;32m---> 35\u001b[0m data \u001b[38;5;241m=\u001b[39m \u001b[43mpd\u001b[49m\u001b[38;5;241m.\u001b[39mDataFrame()\n\u001b[1;32m     37\u001b[0m \u001b[38;5;28;01mfor\u001b[39;00m series_id \u001b[38;5;129;01min\u001b[39;00m series_ids:\n\u001b[1;32m     38\u001b[0m     \u001b[38;5;28;01mtry\u001b[39;00m:\n\u001b[1;32m     39\u001b[0m         \u001b[38;5;66;03m# Fetch series data\u001b[39;00m\n",
      "\u001b[0;31mNameError\u001b[0m: name 'pd' is not defined"
     ]
    }
   ],
   "source": [
    "# Fetch the FRED data for US yields\n",
    "\n",
    "fred_series = [\"DGS2\", \"DGS5\", \"DGS10\"]\n",
    "\n",
    "us_yields = fred_config.fetch_fred_data(fred_series, start_date=\"\", frequency=\"\")\n",
    "\n",
    "us_yields.rename(columns=FRED_SERIES_NAMES, inplace=True)\n"
   ]
  },
  {
   "cell_type": "markdown",
   "id": "401403bf-7763-4140-942b-5b6cd44e7437",
   "metadata": {},
   "source": [
    "# Data processing"
   ]
  },
  {
   "cell_type": "code",
   "execution_count": 10,
   "id": "12e68697-4e15-4453-b80b-0332595113d0",
   "metadata": {},
   "outputs": [
    {
     "name": "stdout",
     "output_type": "stream",
     "text": [
      "            DGS3MO  DGS2  DGS5  DGS10\n",
      "DATE                                 \n",
      "2000-01-03    5.48  6.38  6.50   6.58\n",
      "2000-01-04    5.43  6.30  6.40   6.49\n",
      "2000-01-05    5.44  6.38  6.51   6.62\n",
      "2000-01-06    5.41  6.35  6.46   6.57\n",
      "2000-01-07    5.38  6.31  6.42   6.52\n"
     ]
    }
   ],
   "source": [
    "\n",
    "print(us_yields.head())  # Inspect the first few rows\n"
   ]
  },
  {
   "cell_type": "markdown",
   "id": "537d0897-0c55-4654-9bc9-493b678d52c8",
   "metadata": {},
   "source": [
    "# Analysis"
   ]
  },
  {
   "cell_type": "markdown",
   "id": "a3569d4d-bea5-4e40-b232-6aa14ee84537",
   "metadata": {},
   "source": [
    "# Results and visualization"
   ]
  },
  {
   "cell_type": "code",
   "execution_count": 12,
   "id": "3e8140ba-a7ef-4d72-be4e-1f2ba1131c83",
   "metadata": {
    "jupyter": {
     "source_hidden": true
    }
   },
   "outputs": [
    {
     "name": "stdout",
     "output_type": "stream",
     "text": [
      "Plot saved at: /data/data/com.termux/files/home/projects/fred_data_project/results/treasury_yields.png\n"
     ]
    }
   ],
   "source": [
    "# Plot all series\n",
    "plt.figure(figsize=(10, 6))\n",
    "for column in yield_data.columns:\n",
    "    plt.plot(yield_data.index, yield_data[column], label=column)\n",
    "\n",
    "# Add chart details\n",
    "plt.title(\"US Treasury Yields\", fontsize=14)\n",
    "plt.xlabel(\"Date\", fontsize=12)\n",
    "plt.ylabel(\"Yield (%)\", fontsize=12)\n",
    "plt.legend()\n",
    "plt.grid(True)\n",
    "plt.tight_layout()\n",
    "\n",
    "# Save the plot\n",
    "plot_path = os.path.join(results_dir, \"treasury_yields.png\")\n",
    "plt.savefig(plot_path)\n",
    "plt.close()\n",
    "\n",
    "print(f\"Plot saved at: {plot_path}\")\n"
   ]
  },
  {
   "cell_type": "code",
   "execution_count": null,
   "id": "13ba1bc5-602e-4454-b1fe-0cc1c6c29efb",
   "metadata": {},
   "outputs": [],
   "source": []
  }
 ],
 "metadata": {
  "kernelspec": {
   "display_name": "Python 3 (ipykernel)",
   "language": "python",
   "name": "python3"
  },
  "language_info": {
   "codemirror_mode": {
    "name": "ipython",
    "version": 3
   },
   "file_extension": ".py",
   "mimetype": "text/x-python",
   "name": "python",
   "nbconvert_exporter": "python",
   "pygments_lexer": "ipython3",
   "version": "3.12.8"
  }
 },
 "nbformat": 4,
 "nbformat_minor": 5
}
